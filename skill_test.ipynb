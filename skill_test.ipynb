{
  "nbformat": 4,
  "nbformat_minor": 0,
  "metadata": {
    "colab": {
      "name": "skill_test.ipynb",
      "provenance": [],
      "collapsed_sections": []
    },
    "kernelspec": {
      "name": "python3",
      "display_name": "Python 3"
    },
    "language_info": {
      "name": "python"
    }
  },
  "cells": [
    {
      "cell_type": "markdown",
      "metadata": {
        "id": "5ImWJBFTE7eN"
      },
      "source": [
        "**Installing important packages**"
      ]
    },
    {
      "cell_type": "code",
      "metadata": {
        "colab": {
          "base_uri": "https://localhost:8080/"
        },
        "id": "l2bB-o5AtfU0",
        "outputId": "373bbdc8-4804-489a-9256-9e61851a6981"
      },
      "source": [
        "pip install arm_pyart"
      ],
      "execution_count": 99,
      "outputs": [
        {
          "output_type": "stream",
          "text": [
            "Collecting arm_pyart\n",
            "  Using cached https://files.pythonhosted.org/packages/bd/84/d03b868a349d9e6ab63a6ac9e9e60b62b9fa00733d4ab9a5eafd83231a04/arm_pyart-1.11.4.tar.gz\n",
            "Building wheels for collected packages: arm-pyart\n",
            "  Building wheel for arm-pyart (setup.py) ... \u001b[?25l\u001b[?25hdone\n",
            "  Created wheel for arm-pyart: filename=arm_pyart-1.11.4-cp37-cp37m-linux_x86_64.whl size=10210178 sha256=d921a91e2784a7ad0a83c46bfc4efd9f193345ed75ad4607886e7a0d61f92178\n",
            "  Stored in directory: /root/.cache/pip/wheels/71/eb/98/eea5eab91b6d2a58991f17446ce9195c4d68c8ae11e438d890\n",
            "Successfully built arm-pyart\n",
            "Installing collected packages: arm-pyart\n",
            "Successfully installed arm-pyart-1.11.4\n"
          ],
          "name": "stdout"
        }
      ]
    },
    {
      "cell_type": "code",
      "metadata": {
        "colab": {
          "base_uri": "https://localhost:8080/"
        },
        "id": "UGhEEeh2t6Cn",
        "outputId": "085c9976-290a-4bbd-a592-2954acf81141"
      },
      "source": [
        "pip install netcdf4"
      ],
      "execution_count": 100,
      "outputs": [
        {
          "output_type": "stream",
          "text": [
            "Collecting netcdf4\n",
            "\u001b[?25l  Downloading https://files.pythonhosted.org/packages/37/56/f65978898fb8e7e5df9c67531d86eb24eb04938deae3b61dbcce12c98212/netCDF4-1.5.6-cp37-cp37m-manylinux2014_x86_64.whl (4.7MB)\n",
            "\u001b[K     |████████████████████████████████| 4.7MB 5.0MB/s \n",
            "\u001b[?25hCollecting cftime\n",
            "\u001b[?25l  Downloading https://files.pythonhosted.org/packages/41/e0/3e120cca16571c5ee3b35f1ed432c2aae5dc91e2b789e8b9c3a70e721ea0/cftime-1.4.1-cp37-cp37m-manylinux2014_x86_64.whl (313kB)\n",
            "\u001b[K     |████████████████████████████████| 317kB 14.0MB/s \n",
            "\u001b[?25hRequirement already satisfied: numpy>=1.9 in /usr/local/lib/python3.7/dist-packages (from netcdf4) (1.19.5)\n",
            "Installing collected packages: cftime, netcdf4\n",
            "Successfully installed cftime-1.4.1 netcdf4-1.5.6\n"
          ],
          "name": "stdout"
        }
      ]
    },
    {
      "cell_type": "code",
      "metadata": {
        "colab": {
          "base_uri": "https://localhost:8080/"
        },
        "id": "kjFP6oVZylzP",
        "outputId": "cdfdfaaf-e02f-4708-ae48-c4db8e12f93e"
      },
      "source": [
        "pip install git+https://github.com/SciTools/cartopy.git\n"
      ],
      "execution_count": 101,
      "outputs": [
        {
          "output_type": "stream",
          "text": [
            "Collecting git+https://github.com/SciTools/cartopy.git\n",
            "  Cloning https://github.com/SciTools/cartopy.git to /tmp/pip-req-build-ate2z26y\n",
            "  Running command git clone -q https://github.com/SciTools/cartopy.git /tmp/pip-req-build-ate2z26y\n",
            "  Installing build dependencies ... \u001b[?25l\u001b[?25hdone\n",
            "  Getting requirements to build wheel ... \u001b[?25l\u001b[?25hdone\n",
            "    Preparing wheel metadata ... \u001b[?25l\u001b[?25hdone\n",
            "Requirement already satisfied: numpy>=1.13.3 in /usr/local/lib/python3.7/dist-packages (from Cartopy==0.19.0rc2.dev2+g4ca93c1) (1.19.5)\n",
            "Collecting pyshp>=2\n",
            "\u001b[?25l  Downloading https://files.pythonhosted.org/packages/38/85/fbf87e7aa55103e0d06af756bdbc15cf821fa580414c23142d60a35d4f85/pyshp-2.1.3.tar.gz (219kB)\n",
            "\u001b[K     |████████████████████████████████| 225kB 4.1MB/s \n",
            "\u001b[?25hRequirement already satisfied: shapely>=1.5.6 in /usr/local/lib/python3.7/dist-packages (from Cartopy==0.19.0rc2.dev2+g4ca93c1) (1.7.1)\n",
            "Building wheels for collected packages: Cartopy\n",
            "  Building wheel for Cartopy (PEP 517) ... \u001b[?25l\u001b[?25hdone\n",
            "  Created wheel for Cartopy: filename=Cartopy-0.19.0rc2.dev2+g4ca93c1-cp37-cp37m-linux_x86_64.whl size=12515159 sha256=9f2fd57086ad1df4ddb453f2d0fcd76ff765d1a6c047c0cea9f03b46e632f848\n",
            "  Stored in directory: /tmp/pip-ephem-wheel-cache-gc3hdsip/wheels/ac/33/64/1a2fddaf0a5f699bb6848296a57ca902f5320baa86e8518b3b\n",
            "Successfully built Cartopy\n",
            "Building wheels for collected packages: pyshp\n",
            "  Building wheel for pyshp (setup.py) ... \u001b[?25l\u001b[?25hdone\n",
            "  Created wheel for pyshp: filename=pyshp-2.1.3-cp37-none-any.whl size=37264 sha256=414aa99dd0e7814d22c54a2465e668007325419ba0ec931d69b3412b75d2ad20\n",
            "  Stored in directory: /root/.cache/pip/wheels/76/2b/d4/53e6b9a0fb0a9f9f29664cf82605af8bc81d5ab44d987896dd\n",
            "Successfully built pyshp\n",
            "Installing collected packages: pyshp, Cartopy\n",
            "Successfully installed Cartopy-0.19.0rc2.dev2+g4ca93c1 pyshp-2.1.3\n"
          ],
          "name": "stdout"
        }
      ]
    },
    {
      "cell_type": "code",
      "metadata": {
        "colab": {
          "base_uri": "https://localhost:8080/"
        },
        "id": "YwlvR20sEwtu",
        "outputId": "45fc30a8-77f4-4bd1-c7f5-f58e9dd23ee1"
      },
      "source": [
        "pip uninstall shapely\n"
      ],
      "execution_count": 104,
      "outputs": [
        {
          "output_type": "stream",
          "text": [
            "Uninstalling Shapely-1.7.1:\n",
            "  Would remove:\n",
            "    /usr/local/lib/python3.7/dist-packages/Shapely-1.7.1.dist-info/*\n",
            "    /usr/local/lib/python3.7/dist-packages/shapely/*\n",
            "Proceed (y/n)? y\n",
            "  Successfully uninstalled Shapely-1.7.1\n"
          ],
          "name": "stdout"
        }
      ]
    },
    {
      "cell_type": "code",
      "metadata": {
        "colab": {
          "base_uri": "https://localhost:8080/"
        },
        "id": "NI5j4mdHE0X0",
        "outputId": "f221598d-d32f-4d57-b515-6353b3e49121"
      },
      "source": [
        "pip install shapely --no-binary shapely"
      ],
      "execution_count": 105,
      "outputs": [
        {
          "output_type": "stream",
          "text": [
            "Collecting shapely\n",
            "\u001b[?25l  Downloading https://files.pythonhosted.org/packages/42/f3/0e1bc2c4f15e05e30c6b99322b9ddaa2babb3f43bc7df2698efdc1553439/Shapely-1.7.1.tar.gz (383kB)\n",
            "\r\u001b[K     |▉                               | 10kB 16.5MB/s eta 0:00:01\r\u001b[K     |█▊                              | 20kB 9.0MB/s eta 0:00:01\r\u001b[K     |██▋                             | 30kB 8.6MB/s eta 0:00:01\r\u001b[K     |███▍                            | 40kB 7.2MB/s eta 0:00:01\r\u001b[K     |████▎                           | 51kB 4.2MB/s eta 0:00:01\r\u001b[K     |█████▏                          | 61kB 4.7MB/s eta 0:00:01\r\u001b[K     |██████                          | 71kB 4.7MB/s eta 0:00:01\r\u001b[K     |██████▉                         | 81kB 5.1MB/s eta 0:00:01\r\u001b[K     |███████▊                        | 92kB 5.5MB/s eta 0:00:01\r\u001b[K     |████████▌                       | 102kB 5.5MB/s eta 0:00:01\r\u001b[K     |█████████▍                      | 112kB 5.5MB/s eta 0:00:01\r\u001b[K     |██████████▎                     | 122kB 5.5MB/s eta 0:00:01\r\u001b[K     |███████████▏                    | 133kB 5.5MB/s eta 0:00:01\r\u001b[K     |████████████                    | 143kB 5.5MB/s eta 0:00:01\r\u001b[K     |████████████▉                   | 153kB 5.5MB/s eta 0:00:01\r\u001b[K     |█████████████▊                  | 163kB 5.5MB/s eta 0:00:01\r\u001b[K     |██████████████▌                 | 174kB 5.5MB/s eta 0:00:01\r\u001b[K     |███████████████▍                | 184kB 5.5MB/s eta 0:00:01\r\u001b[K     |████████████████▎               | 194kB 5.5MB/s eta 0:00:01\r\u001b[K     |█████████████████               | 204kB 5.5MB/s eta 0:00:01\r\u001b[K     |██████████████████              | 215kB 5.5MB/s eta 0:00:01\r\u001b[K     |██████████████████▉             | 225kB 5.5MB/s eta 0:00:01\r\u001b[K     |███████████████████▊            | 235kB 5.5MB/s eta 0:00:01\r\u001b[K     |████████████████████▌           | 245kB 5.5MB/s eta 0:00:01\r\u001b[K     |█████████████████████▍          | 256kB 5.5MB/s eta 0:00:01\r\u001b[K     |██████████████████████▎         | 266kB 5.5MB/s eta 0:00:01\r\u001b[K     |███████████████████████         | 276kB 5.5MB/s eta 0:00:01\r\u001b[K     |████████████████████████        | 286kB 5.5MB/s eta 0:00:01\r\u001b[K     |████████████████████████▉       | 296kB 5.5MB/s eta 0:00:01\r\u001b[K     |█████████████████████████▋      | 307kB 5.5MB/s eta 0:00:01\r\u001b[K     |██████████████████████████▌     | 317kB 5.5MB/s eta 0:00:01\r\u001b[K     |███████████████████████████▍    | 327kB 5.5MB/s eta 0:00:01\r\u001b[K     |████████████████████████████▏   | 337kB 5.5MB/s eta 0:00:01\r\u001b[K     |█████████████████████████████   | 348kB 5.5MB/s eta 0:00:01\r\u001b[K     |██████████████████████████████  | 358kB 5.5MB/s eta 0:00:01\r\u001b[K     |██████████████████████████████▉ | 368kB 5.5MB/s eta 0:00:01\r\u001b[K     |███████████████████████████████▋| 378kB 5.5MB/s eta 0:00:01\r\u001b[K     |████████████████████████████████| 389kB 5.5MB/s \n",
            "\u001b[?25hSkipping wheel build for shapely, due to binaries being disabled for it.\n",
            "\u001b[31mERROR: albumentations 0.1.12 has requirement imgaug<0.2.7,>=0.2.5, but you'll have imgaug 0.2.9 which is incompatible.\u001b[0m\n",
            "Installing collected packages: shapely\n",
            "    Running setup.py install for shapely ... \u001b[?25l\u001b[?25hdone\n",
            "Successfully installed shapely-1.7.1\n"
          ],
          "name": "stdout"
        }
      ]
    },
    {
      "cell_type": "code",
      "metadata": {
        "colab": {
          "base_uri": "https://localhost:8080/"
        },
        "id": "LF2G035tz59w",
        "outputId": "f1b8d575-2b5d-4564-ca5b-e68c7a6e67d5"
      },
      "source": [
        "pip install pyproj"
      ],
      "execution_count": 106,
      "outputs": [
        {
          "output_type": "stream",
          "text": [
            "Collecting pyproj\n",
            "\u001b[?25l  Downloading https://files.pythonhosted.org/packages/b1/72/d52e9ca81caef056062d71991b0e9b1d16af042245627c5d0e4916a36c4f/pyproj-3.0.1-cp37-cp37m-manylinux2010_x86_64.whl (6.5MB)\n",
            "\u001b[K     |████████████████████████████████| 6.5MB 5.5MB/s \n",
            "\u001b[?25hRequirement already satisfied: certifi in /usr/local/lib/python3.7/dist-packages (from pyproj) (2020.12.5)\n",
            "Installing collected packages: pyproj\n",
            "Successfully installed pyproj-3.0.1\n"
          ],
          "name": "stdout"
        }
      ]
    },
    {
      "cell_type": "markdown",
      "metadata": {
        "id": "Co6NnzmmFFn3"
      },
      "source": [
        "**Importing required libraries and packages**"
      ]
    },
    {
      "cell_type": "code",
      "metadata": {
        "colab": {
          "base_uri": "https://localhost:8080/"
        },
        "id": "Id-DcHnou4pA",
        "outputId": "48522ab6-2f5d-4208-ba33-75ff9c639040"
      },
      "source": [
        "import pyart\n",
        "import matplotlib.pyplot as plt\n",
        "import cartopy.crs as ccrs\n",
        "import numpy as np\n",
        "import os\n",
        "from matplotlib import animation\n",
        "import matplotlib.dates as md"
      ],
      "execution_count": 107,
      "outputs": [
        {
          "output_type": "stream",
          "text": [
            "\n",
            "## You are using the Python ARM Radar Toolkit (Py-ART), an open source\n",
            "## library for working with weather radar data. Py-ART is partly\n",
            "## supported by the U.S. Department of Energy as part of the Atmospheric\n",
            "## Radiation Measurement (ARM) Climate Research Facility, an Office of\n",
            "## Science user facility.\n",
            "##\n",
            "## If you use this software to prepare a publication, please cite:\n",
            "##\n",
            "##     JJ Helmus and SM Collis, JORS 2016, doi: 10.5334/jors.119\n",
            "\n"
          ],
          "name": "stdout"
        },
        {
          "output_type": "stream",
          "text": [
            "/usr/local/lib/python3.7/dist-packages/yaml/constructor.py:126: DeprecationWarning: Using or importing the ABCs from 'collections' instead of from 'collections.abc' is deprecated since Python 3.3,and in 3.9 it will stop working\n",
            "  if not isinstance(key, collections.Hashable):\n",
            "/usr/local/lib/python3.7/dist-packages/_pytest/mark/structures.py:426: DeprecationWarning: The usage of `cmp` is deprecated and will be removed on or after 2021-06-01.  Please use `eq` and `order` instead.\n",
            "  @attr.s(cmp=False, hash=False)\n"
          ],
          "name": "stderr"
        }
      ]
    },
    {
      "cell_type": "code",
      "metadata": {
        "id": "N7swdRFeMEKJ"
      },
      "source": [
        "import pyproj\n",
        "import heapq"
      ],
      "execution_count": 108,
      "outputs": []
    },
    {
      "cell_type": "code",
      "metadata": {
        "id": "ob1-fr-xGlcN"
      },
      "source": [
        "import requests\n",
        "import urllib.parse"
      ],
      "execution_count": 109,
      "outputs": []
    },
    {
      "cell_type": "code",
      "metadata": {
        "id": "-P0iJBfsGtRa"
      },
      "source": [
        "import gdown"
      ],
      "execution_count": 110,
      "outputs": []
    },
    {
      "cell_type": "markdown",
      "metadata": {
        "id": "FluZ7u_jEgLw"
      },
      "source": [
        "**Downloading and unzipping the dataset**"
      ]
    },
    {
      "cell_type": "code",
      "metadata": {
        "id": "vylpZ7s-48EK"
      },
      "source": [
        "!gdown --id '1wihpGotUE2tct2J7MJoDBDUUVkZ_Jtsd'\n",
        "!unzip -u \"skill_test.zip\""
      ],
      "execution_count": null,
      "outputs": []
    },
    {
      "cell_type": "code",
      "metadata": {
        "colab": {
          "base_uri": "https://localhost:8080/"
        },
        "id": "aYFEgDY_T-lI",
        "outputId": "02dde017-c4b7-4f38-da6f-2fe15bcc36a2"
      },
      "source": [
        "!gdown --id '1BMGNudIVg0T499x-hDQYUJz1wG67hufw'"
      ],
      "execution_count": 112,
      "outputs": [
        {
          "output_type": "stream",
          "text": [
            "Downloading...\n",
            "From: https://drive.google.com/uc?id=1BMGNudIVg0T499x-hDQYUJz1wG67hufw\n",
            "To: /content/radar_lab_refl.csv\n",
            "\r  0% 0.00/3.21k [00:00<?, ?B/s]\r100% 3.21k/3.21k [00:00<00:00, 2.88MB/s]\n"
          ],
          "name": "stdout"
        }
      ]
    },
    {
      "cell_type": "code",
      "metadata": {
        "id": "Dg2J2k4LTvN_"
      },
      "source": [
        "names = os.listdir(\"./skill_test\")\n",
        "names = [name for name in names if name[:4] == 'KOKX' and name[-3:]!= \"MDM\"]\n",
        "names.sort()\n"
      ],
      "execution_count": 115,
      "outputs": []
    },
    {
      "cell_type": "markdown",
      "metadata": {
        "id": "jNWAa4wXrpai"
      },
      "source": [
        "**Excercise 1: To create an animation of radar reflectivity data collected by the NEXRAD KOKX radar at the lowest elevation angle (i.e. 0.5°) on April 1, 2021.**"
      ]
    },
    {
      "cell_type": "code",
      "metadata": {
        "id": "kE1CYdJ3U7b1"
      },
      "source": [
        "import warnings\n",
        "warnings.filterwarnings(\"ignore\")\n",
        "\n",
        "def animated_gif(idx):\n",
        "\n",
        "  plt.clf()\n",
        "  radar = pyart.io.read_nexrad_archive(names[idx])\n",
        "  display = pyart.graph.RadarMapDisplay(radar)\n",
        "\n",
        "  projection = ccrs.LambertConformal(central_latitude=radar.latitude['data'][0],\n",
        "                                    central_longitude=radar.longitude['data'][0])\n",
        "\n",
        "  display.plot_ppi_map('reflectivity', 1, vmin=-10, vmax=60,\n",
        "                      width = 250000, height = 250000,\n",
        "                      resolution='10m',\n",
        "                      projection=projection,\n",
        "                      fig=fig, \n",
        "                      lat_0=radar.latitude['data'][0],\n",
        "                      lon_0=radar.longitude['data'][0]\n",
        "                      )\n",
        "\n",
        "  # Plot range rings at 40, 80, km\n",
        "  display.plot_range_ring(40., line_style='k-')\n",
        "  display.plot_range_ring(80., line_style='k-')\n",
        "  display.plot_range_ring(120., line_style='k-')\n",
        "\n",
        "  # Plot cross hairs\n",
        "  display.plot_line_xy(np.array([-40000.0, 40000.0]), np.array([0.0, 0.0]), line_style='k-')\n",
        "  display.plot_line_xy(np.array([0.0, 0.0]), np.array([-20000.0, 200000.0]), line_style='k-')\n",
        "\n",
        "  # Indicate the radar location with a point\n",
        "  display.plot_point(radar.longitude['data'][0], radar.latitude['data'][0])\n",
        "\n",
        "  #free the memory for radar\n",
        "  del radar\n",
        "\n",
        "fig = plt.figure(figsize=(10,10))\n",
        "\n",
        "anim_klot = animation.FuncAnimation(fig, animated_gif,frames=len(names))\n",
        "\n",
        "#Saving the animation with 5 frames per second\n",
        "anim_klot.save('reflectivity_animation.gif', writer = \"pillow\", fps=5)\n",
        "plt.close()"
      ],
      "execution_count": 189,
      "outputs": []
    },
    {
      "cell_type": "markdown",
      "metadata": {
        "id": "m6snQf5iryrv"
      },
      "source": [
        "**Exercise 2: To locate the Stony Brook Radar Observatory (South P lot in Stony Brook), extract the time series of radar reflectivity at that location from the lowest elevation angle (i.e. 0.5°) observations collected on April 1, 2021 and plot it as a function of time.**"
      ]
    },
    {
      "cell_type": "code",
      "metadata": {
        "id": "WwDtRkRcstim"
      },
      "source": [
        "# Extraction of longtitude and latitude location of Stony Brook Radar Observatory.\n",
        "\n",
        "address = 'South P Lot,Stony Brook, NY 11790'\n",
        "url = 'https://nominatim.openstreetmap.org/search/' + urllib.parse.quote(address) +'?format=json'\n",
        "response = requests.get(url).json()\n",
        "latitude = response[0][\"lat\"]    # latitude (in degrees) to find reflectivity at or near\n",
        "longitude = response[0][\"lon\"]  # longitude (in degrees) to find reflectivity at or near"
      ],
      "execution_count": 116,
      "outputs": []
    },
    {
      "cell_type": "code",
      "metadata": {
        "colab": {
          "base_uri": "https://localhost:8080/"
        },
        "id": "Rb5oZMV1zym4",
        "outputId": "9ea20e34-a6bc-4ac5-dea4-62fb5cb3e790"
      },
      "source": [
        "\n",
        "# Return the displacement from a radar location.\n",
        "def find_x_y_displacement(radar, longitude, latitude):\n",
        "    lat_0 = radar.latitude['data'][0]\n",
        "    lon_0 = radar.longitude['data'][0]\n",
        "    proj = pyproj.Proj(proj='aeqd', lon_0=lon_0, lat_0=lat_0)\n",
        "    return proj(longitude, latitude)\n",
        "\n",
        "# Return the non-zero, closest reflectivity value from \"South P Lot,Stony Brook, NY 11790\" location.\n",
        "def find_reflectivity(radar, longitude, latitude, altitude):\n",
        "\n",
        "    gate_x = radar.gate_x['data']\n",
        "    gate_y = radar.gate_y['data']\n",
        "    gate_z = radar.gate_z['data']\n",
        "\n",
        "    x_disp, y_disp = find_x_y_displacement(radar, longitude, latitude)\n",
        "    # Calculating distance from different gates\n",
        "    distances = np.sqrt((gate_x-x_disp)**2. + (gate_y-y_disp)**2. + (gate_z-altitude)**2.)\n",
        "    \n",
        "    #To obtain the non-zero reflectivity data\n",
        "    h = []\n",
        "    for x in range(len(distances)):\n",
        "      for y in range(len(distances[0])):\n",
        "        heapq.heappush(h,(distances[x][y],(x,y)))   \n",
        "    n = len(h)\n",
        "    i = 0\n",
        "    while i < n:\n",
        "      _,idx = heapq.heappop(h)\n",
        "      x = radar.fields['reflectivity']['data'][idx]\n",
        "      if x:\n",
        "        return x\n",
        "      i+=1\n",
        "    return None      \n",
        "\n",
        "altitude = 100      # assumed altitude (in meters) to find reflectivity at or near\n",
        "refl = []\n",
        "time = []\n",
        "hours = []\n",
        "minutes = []\n",
        "\n",
        "for filename in names:\n",
        "  radar = pyart.io.read(filename)\n",
        "  x = find_reflectivity(radar, longitude, latitude, altitude)\n",
        "  time_utc = num2date(radar.time['data'][0],radar.time['units'])\n",
        "  print(x, time_utc)\n",
        "  refl.append(x)\n",
        "  time.append(time_utc)\n",
        "  hours.append(time_utc.hour)\n",
        "  minutes.append(time_utc.minute)\n",
        "  del radar\n",
        "\n"
      ],
      "execution_count": 199,
      "outputs": [
        {
          "output_type": "stream",
          "text": [
            "16.0 2021-04-01 00:09:14.673000\n",
            "13.0 2021-04-01 00:18:57.269000\n",
            "11.5 2021-04-01 00:28:39.881000\n",
            "17.5 2021-04-01 00:38:21.876000\n",
            "18.0 2021-04-01 00:48:04.320000\n",
            "20.5 2021-04-01 00:57:47.928000\n",
            "20.0 2021-04-01 01:07:30.841000\n",
            "21.0 2021-04-01 01:17:13.476000\n",
            "12.0 2021-04-01 01:26:55.875000\n",
            "19.0 2021-04-01 01:36:38.619000\n",
            "22.0 2021-04-01 01:40:38.024000\n",
            "28.5 2021-04-01 01:47:27.328000\n",
            "24.5 2021-04-01 01:54:23.872000\n",
            "25.0 2021-04-01 02:01:19.743000\n",
            "20.5 2021-04-01 02:08:15.676000\n",
            "19.5 2021-04-01 02:15:11.445000\n",
            "28.5 2021-04-01 02:22:01.093000\n",
            "30.0 2021-04-01 02:28:50.028000\n",
            "23.0 2021-04-01 02:35:38.715000\n",
            "27.5 2021-04-01 02:44:30.235000\n",
            "42.0 2021-04-01 02:51:19.047000\n",
            "17.5 2021-04-01 02:58:08.028000\n",
            "24.0 2021-04-01 03:04:56.599000\n",
            "23.0 2021-04-01 03:11:45.526000\n",
            "21.5 2021-04-01 03:18:33.090000\n",
            "26.0 2021-04-01 03:25:20.825000\n",
            "28.0 2021-04-01 03:32:09.761000\n",
            "29.0 2021-04-01 03:38:58.431000\n",
            "28.0 2021-04-01 03:45:47.405000\n",
            "24.5 2021-04-01 03:52:36.052000\n",
            "28.0 2021-04-01 03:59:31.778000\n",
            "29.5 2021-04-01 04:06:26.382000\n",
            "28.0 2021-04-01 04:13:21.052000\n",
            "28.5 2021-04-01 04:20:17.191000\n",
            "32.0 2021-04-01 04:27:12.929000\n",
            "27.0 2021-04-01 04:34:08.507000\n",
            "25.5 2021-04-01 04:41:04.321000\n",
            "21.5 2021-04-01 04:47:59.984000\n",
            "35.5 2021-04-01 04:54:55.934000\n",
            "0.5 2021-04-01 05:01:50.470000\n",
            "1.0 2021-04-01 05:08:46.291000\n",
            "10.5 2021-04-01 05:15:42.136000\n",
            "9.0 2021-04-01 05:22:37.797000\n",
            "9.0 2021-04-01 05:29:32.650000\n",
            "8.5 2021-04-01 05:36:28.310000\n",
            "-10.5 2021-04-01 05:43:09.090000\n",
            "6.0 2021-04-01 05:49:21.077000\n",
            "3.0 2021-04-01 05:55:32.596000\n",
            "10.5 2021-04-01 06:01:43.460000\n",
            "9.0 2021-04-01 06:07:39.240000\n",
            "10.5 2021-04-01 06:13:36.123000\n",
            "1.0 2021-04-01 06:19:33.063000\n",
            "-9.0 2021-04-01 06:25:08.567000\n",
            "-11.5 2021-04-01 06:30:43.487000\n",
            "-6.0 2021-04-01 06:36:19.204000\n",
            "4.0 2021-04-01 06:42:02.137000\n",
            "14.5 2021-04-01 06:47:23.378000\n",
            "-2.5 2021-04-01 06:52:50.281000\n",
            "-9.0 2021-04-01 06:58:11.346000\n",
            "-15.5 2021-04-01 07:03:38.963000\n",
            "-7.5 2021-04-01 07:09:05.632000\n",
            "-10.5 2021-04-01 07:14:33.532000\n",
            "-10.5 2021-04-01 07:20:00.255000\n",
            "14.0 2021-04-01 07:25:28.083000\n",
            "12.5 2021-04-01 07:30:55.917000\n",
            "7.5 2021-04-01 07:36:23.975000\n",
            "10.5 2021-04-01 07:41:50.503000\n",
            "7.0 2021-04-01 07:47:16.366000\n",
            "2.5 2021-04-01 07:52:44.169000\n",
            "8.0 2021-04-01 07:58:11.026000\n",
            "5.5 2021-04-01 08:03:38.970000\n",
            "12.0 2021-04-01 08:09:05.564000\n",
            "12.0 2021-04-01 08:14:32.545000\n",
            "10.5 2021-04-01 08:20:00.288000\n",
            "11.0 2021-04-01 08:25:28.196000\n",
            "1.5 2021-04-01 08:30:54.992000\n",
            "7.5 2021-04-01 08:36:22.595000\n",
            "8.5 2021-04-01 08:41:50.596000\n",
            "8.0 2021-04-01 08:47:18.445000\n",
            "5.0 2021-04-01 08:52:46.572000\n",
            "0.5 2021-04-01 09:02:29.496000\n",
            "12.5 2021-04-01 09:12:12.169000\n",
            "-8.0 2021-04-01 09:21:54.650000\n",
            "-3.0 2021-04-01 09:31:37.445000\n",
            "2.0 2021-04-01 09:41:20.098000\n",
            "5.5 2021-04-01 09:51:02.760000\n",
            "2.5 2021-04-01 10:00:46.461000\n",
            "0.5 2021-04-01 10:10:30.182000\n",
            "-0.5 2021-04-01 10:20:13.890000\n",
            "12.5 2021-04-01 10:29:56.566000\n",
            "9.0 2021-04-01 10:39:39.020000\n",
            "11.5 2021-04-01 10:51:24.261000\n",
            "9.5 2021-04-01 11:01:06.424000\n",
            "8.0 2021-04-01 11:10:49.018000\n",
            "7.5 2021-04-01 11:20:32.210000\n",
            "1.0 2021-04-01 11:25:55.231000\n",
            "2.5 2021-04-01 11:31:22.837000\n",
            "2.5 2021-04-01 11:36:51.449000\n",
            "0.5 2021-04-01 11:46:33.954000\n",
            "-2.0 2021-04-01 11:56:16.613000\n",
            "-1.5 2021-04-01 12:06:00.142000\n",
            "3.0 2021-04-01 12:15:43.226000\n",
            "-3.0 2021-04-01 12:21:05.321000\n",
            "5.0 2021-04-01 12:26:34.037000\n",
            "0.5 2021-04-01 12:32:01.704000\n",
            "3.5 2021-04-01 12:37:29.608000\n",
            "-1.0 2021-04-01 12:43:11.662000\n",
            "27.5 2021-04-01 12:48:40.300000\n",
            "18.5 2021-04-01 12:54:31.461000\n",
            "14.0 2021-04-01 13:00:37.350000\n",
            "12.5 2021-04-01 13:06:29.302000\n",
            "5.0 2021-04-01 13:12:07.277000\n",
            "-5.5 2021-04-01 13:17:57.513000\n",
            "-3.0 2021-04-01 13:24:03.545000\n",
            "8.0 2021-04-01 13:30:24.283000\n",
            "15.5 2021-04-01 13:37:20.129000\n",
            "5.5 2021-04-01 13:43:03.579000\n",
            "9.0 2021-04-01 13:52:45.616000\n",
            "7.5 2021-04-01 14:02:28.491000\n",
            "1.5 2021-04-01 14:12:11.153000\n",
            "-11.0 2021-04-01 14:21:53.648000\n",
            "-6.5 2021-04-01 14:31:36.346000\n",
            "-14.0 2021-04-01 14:41:20.174000\n",
            "-14.5 2021-04-01 14:51:03.737000\n",
            "9.5 2021-04-01 15:00:46.485000\n",
            "-1.0 2021-04-01 15:10:29.298000\n",
            "14.0 2021-04-01 15:20:12.883000\n",
            "0.5 2021-04-01 15:29:56.267000\n",
            "-5.5 2021-04-01 15:39:39.363000\n",
            "-7.0 2021-04-01 15:49:22.985000\n",
            "-3.5 2021-04-01 15:59:06.620000\n",
            "-11.0 2021-04-01 16:08:50.271000\n",
            "-17.5 2021-04-01 16:18:33.917000\n",
            "5.0 2021-04-01 16:28:17.692000\n",
            "-2.0 2021-04-01 16:38:01.397000\n",
            "-8.5 2021-04-01 16:47:45.233000\n",
            "-10.0 2021-04-01 16:57:28.457000\n",
            "-3.5 2021-04-01 17:07:12.405000\n",
            "-11.5 2021-04-01 17:16:54.916000\n",
            "-18.0 2021-04-01 17:26:38.832000\n",
            "-14.5 2021-04-01 17:36:22.559000\n",
            "-10.5 2021-04-01 17:46:06.267000\n",
            "-12.5 2021-04-01 17:55:49.761000\n",
            "-13.5 2021-04-01 18:05:33.486000\n",
            "-14.5 2021-04-01 18:15:17.106000\n",
            "-15.5 2021-04-01 18:25:00.810000\n",
            "-7.0 2021-04-01 18:34:44.595000\n",
            "-17.5 2021-04-01 18:44:28.107000\n",
            "-13.5 2021-04-01 18:56:08.176000\n",
            "-15.5 2021-04-01 19:05:51.414000\n",
            "-10.0 2021-04-01 19:15:34.038000\n",
            "-17.0 2021-04-01 19:25:16.744000\n",
            "-19.5 2021-04-01 19:34:59.592000\n",
            "18.5 2021-04-01 19:44:43.272000\n",
            "-3.5 2021-04-01 19:54:26.918000\n",
            "-8.5 2021-04-01 20:04:10.577000\n",
            "-17.5 2021-04-01 20:13:53.316000\n",
            "-16.0 2021-04-01 20:23:36.856000\n",
            "-19.0 2021-04-01 20:33:20.649000\n",
            "-2.5 2021-04-01 20:43:04.205000\n",
            "-1.0 2021-04-01 20:52:47.834000\n",
            "-3.5 2021-04-01 21:02:31.670000\n",
            "-18.5 2021-04-01 21:12:15.216000\n",
            "-7.5 2021-04-01 21:21:59.031000\n",
            "-14.5 2021-04-01 21:31:42.682000\n",
            "-19.0 2021-04-01 21:41:25.420000\n",
            "-17.0 2021-04-01 21:51:07.928000\n",
            "0.5 2021-04-01 22:00:50.618000\n",
            "4.0 2021-04-01 22:10:33.216000\n",
            "-12.0 2021-04-01 22:20:15.944000\n",
            "-15.5 2021-04-01 22:29:58.520000\n",
            "-7.0 2021-04-01 22:39:41.259000\n",
            "0.5 2021-04-01 22:49:25.057000\n",
            "-15.5 2021-04-01 22:59:07.804000\n",
            "-15.5 2021-04-01 23:08:51.557000\n",
            "-18.5 2021-04-01 23:18:35.316000\n",
            "-18.5 2021-04-01 23:28:18.647000\n",
            "-19.0 2021-04-01 23:38:01.426000\n",
            "-17.0 2021-04-01 23:47:45.279000\n",
            "-14.5 2021-04-01 23:57:28.847000\n"
          ],
          "name": "stdout"
        }
      ]
    },
    {
      "cell_type": "markdown",
      "metadata": {
        "id": "2vH_fGREHnnM"
      },
      "source": [
        "Saving the Radar Reflectivity data for Stony Brook Radar laboratory"
      ]
    },
    {
      "cell_type": "code",
      "metadata": {
        "id": "KNRSbLTL29LC"
      },
      "source": [
        "import pandas as pd\n",
        "import datetime\n",
        "#Saving the result in csv\n",
        "df_refl = pd.DataFrame(np.array([refl,hours,minutes]).transpose(), columns = [\"refl\",\"hours\", \"minutes\"])\n",
        "df_refl.to_csv(\"radar_lab_refl.csv\")"
      ],
      "execution_count": null,
      "outputs": []
    },
    {
      "cell_type": "markdown",
      "metadata": {
        "id": "A5S-hoOSuHLT"
      },
      "source": [
        "Read the pre-saved dataset for radar *lab*"
      ]
    },
    {
      "cell_type": "code",
      "metadata": {
        "id": "cKlsLMqCTbc2"
      },
      "source": [
        "df_refl = pd.read_csv(\"radar_lab_refl.csv\")"
      ],
      "execution_count": 117,
      "outputs": []
    },
    {
      "cell_type": "code",
      "metadata": {
        "id": "1DK05BgrXqfx"
      },
      "source": [
        "time_new = (pd.to_datetime(df_refl['hours'].astype(int).astype(str) + ':' + df_refl['minutes'].astype(int).astype(str), format='%H:%M').dt.time)\n",
        "time_new = pd.DataFrame(time_new)\n",
        "time_new[\"refl\"] = df_refl[\"refl\"]\n",
        "time_new = time_new.rename(columns={0:\"time\"})\n",
        "time_new = time_new.set_index([\"time\"])\n",
        "date = str(datetime.datetime.strptime('2021-04-01', '%Y-%m-%d').date())\n",
        "time_new['timestamp'] = pd.to_datetime(date + \" \" + time_new.index.astype(str))\n",
        "time_new = time_new.set_index([\"timestamp\"])"
      ],
      "execution_count": 118,
      "outputs": []
    },
    {
      "cell_type": "code",
      "metadata": {
        "colab": {
          "base_uri": "https://localhost:8080/",
          "height": 339
        },
        "id": "M-sy_bKnY2ob",
        "outputId": "1e661179-d722-4c20-863e-f22e0273d127"
      },
      "source": [
        "ax = plt.gca()\n",
        "xfmt = md.DateFormatter('%Y-%m-%d %H:%M:%S')\n",
        "ax.xaxis.set_major_formatter(xfmt)\n",
        "plt.plot(time_new.index, time_new.refl)\n",
        "plt.xticks( rotation=25 )\n",
        "plt.title(\"Time Series: Radar Reflectivity at Stony Brook Radar Observatory\")\n",
        "plt.xlabel(\"Time\")\n",
        "plt.ylabel(\"Radar Reflectivity\")\n",
        "plt.savefig(\"time_series.jpg\")\n",
        "plt.show()\n"
      ],
      "execution_count": 119,
      "outputs": [
        {
          "output_type": "display_data",
          "data": {
            "image/png": "[encoded data removed]",
            "text/plain": [
              "<Figure size 432x288 with 1 Axes>"
            ]
          },
          "metadata": {
            "tags": [],
            "needs_background": "light"
          }
        }
      ]
    }
  ]
}